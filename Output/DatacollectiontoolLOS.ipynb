{
 "cells": [
  {
   "cell_type": "markdown",
   "id": "primary-draft",
   "metadata": {},
   "source": [
    "# Data Collection tool for length of stay in hospital\n",
    "\n",
    "\n"
   ]
  },
  {
   "cell_type": "markdown",
   "id": "funky-minimum",
   "metadata": {},
   "source": [
    "This platform allows collection of length of hospital data for the purposes of data analysis."
   ]
  },
  {
   "cell_type": "code",
   "execution_count": 1,
   "id": "cellular-dominican",
   "metadata": {},
   "outputs": [],
   "source": [
    "# Load the \"Pandas\" package to import CSV files using the pd.read_csv function\n",
    "import pandas as pd\n",
    "\n",
    "los_testdata= pd.read_csv(\"../Data/LosTest.csv\")"
   ]
  },
  {
   "cell_type": "code",
   "execution_count": 2,
   "id": "functioning-honolulu",
   "metadata": {},
   "outputs": [
    {
     "data": {
      "text/html": [
       "<div>\n",
       "<style scoped>\n",
       "    .dataframe tbody tr th:only-of-type {\n",
       "        vertical-align: middle;\n",
       "    }\n",
       "\n",
       "    .dataframe tbody tr th {\n",
       "        vertical-align: top;\n",
       "    }\n",
       "\n",
       "    .dataframe thead th {\n",
       "        text-align: right;\n",
       "    }\n",
       "</style>\n",
       "<table border=\"1\" class=\"dataframe\">\n",
       "  <thead>\n",
       "    <tr style=\"text-align: right;\">\n",
       "      <th></th>\n",
       "      <th>index</th>\n",
       "      <th>LOS</th>\n",
       "      <th>Age</th>\n",
       "      <th>Outcome</th>\n",
       "    </tr>\n",
       "  </thead>\n",
       "  <tbody>\n",
       "    <tr>\n",
       "      <th>0</th>\n",
       "      <td>56</td>\n",
       "      <td>1</td>\n",
       "      <td>11</td>\n",
       "      <td>Discharge</td>\n",
       "    </tr>\n",
       "    <tr>\n",
       "      <th>1</th>\n",
       "      <td>72</td>\n",
       "      <td>6</td>\n",
       "      <td>79</td>\n",
       "      <td>Discharge</td>\n",
       "    </tr>\n",
       "    <tr>\n",
       "      <th>2</th>\n",
       "      <td>76</td>\n",
       "      <td>7</td>\n",
       "      <td>66</td>\n",
       "      <td>Discharge</td>\n",
       "    </tr>\n",
       "    <tr>\n",
       "      <th>3</th>\n",
       "      <td>85</td>\n",
       "      <td>12</td>\n",
       "      <td>90</td>\n",
       "      <td>Discharge</td>\n",
       "    </tr>\n",
       "    <tr>\n",
       "      <th>4</th>\n",
       "      <td>147</td>\n",
       "      <td>3</td>\n",
       "      <td>38</td>\n",
       "      <td>Discharge</td>\n",
       "    </tr>\n",
       "    <tr>\n",
       "      <th>5</th>\n",
       "      <td>162</td>\n",
       "      <td>2</td>\n",
       "      <td>17</td>\n",
       "      <td>Discharge</td>\n",
       "    </tr>\n",
       "    <tr>\n",
       "      <th>6</th>\n",
       "      <td>202</td>\n",
       "      <td>6</td>\n",
       "      <td>69</td>\n",
       "      <td>Discharge</td>\n",
       "    </tr>\n",
       "    <tr>\n",
       "      <th>7</th>\n",
       "      <td>204</td>\n",
       "      <td>2</td>\n",
       "      <td>27</td>\n",
       "      <td>Discharge</td>\n",
       "    </tr>\n",
       "    <tr>\n",
       "      <th>8</th>\n",
       "      <td>252</td>\n",
       "      <td>4</td>\n",
       "      <td>90</td>\n",
       "      <td>Death</td>\n",
       "    </tr>\n",
       "    <tr>\n",
       "      <th>9</th>\n",
       "      <td>275</td>\n",
       "      <td>6</td>\n",
       "      <td>44</td>\n",
       "      <td>Discharge</td>\n",
       "    </tr>\n",
       "    <tr>\n",
       "      <th>10</th>\n",
       "      <td>298</td>\n",
       "      <td>3</td>\n",
       "      <td>21</td>\n",
       "      <td>Discharge</td>\n",
       "    </tr>\n",
       "  </tbody>\n",
       "</table>\n",
       "</div>"
      ],
      "text/plain": [
       "    index  LOS  Age    Outcome\n",
       "0      56    1   11  Discharge\n",
       "1      72    6   79  Discharge\n",
       "2      76    7   66  Discharge\n",
       "3      85   12   90  Discharge\n",
       "4     147    3   38  Discharge\n",
       "5     162    2   17  Discharge\n",
       "6     202    6   69  Discharge\n",
       "7     204    2   27  Discharge\n",
       "8     252    4   90      Death\n",
       "9     275    6   44  Discharge\n",
       "10    298    3   21  Discharge"
      ]
     },
     "execution_count": 2,
     "metadata": {},
     "output_type": "execute_result"
    }
   ],
   "source": [
    "# Visualize data imported\n",
    "\n",
    "los_testdata\n"
   ]
  },
  {
   "cell_type": "code",
   "execution_count": 3,
   "id": "controlling-dream",
   "metadata": {},
   "outputs": [
    {
     "name": "stdout",
     "output_type": "stream",
     "text": [
      "Variable and data type:\n",
      "index       int64\n",
      "LOS         int64\n",
      "Age         int64\n",
      "Outcome    object\n",
      "dtype: object\n"
     ]
    }
   ],
   "source": [
    "# Observing data types with dtypes function from the \"pandas\" package\n",
    "\n",
    "data_types = los_testdata.dtypes\n",
    "\n",
    "print(\"Variable and data type:\")\n",
    "print(data_types)\n"
   ]
  },
  {
   "cell_type": "code",
   "execution_count": 4,
   "id": "current-warrant",
   "metadata": {},
   "outputs": [
    {
     "data": {
      "text/html": [
       "<div>\n",
       "<style scoped>\n",
       "    .dataframe tbody tr th:only-of-type {\n",
       "        vertical-align: middle;\n",
       "    }\n",
       "\n",
       "    .dataframe tbody tr th {\n",
       "        vertical-align: top;\n",
       "    }\n",
       "\n",
       "    .dataframe thead th {\n",
       "        text-align: right;\n",
       "    }\n",
       "</style>\n",
       "<table border=\"1\" class=\"dataframe\">\n",
       "  <thead>\n",
       "    <tr style=\"text-align: right;\">\n",
       "      <th></th>\n",
       "      <th>Index</th>\n",
       "      <th>Lenght of stay</th>\n",
       "      <th>Age</th>\n",
       "      <th>Outcome</th>\n",
       "      <th>Consent</th>\n",
       "    </tr>\n",
       "  </thead>\n",
       "  <tbody>\n",
       "    <tr>\n",
       "      <th>0</th>\n",
       "      <td>0</td>\n",
       "      <td>0</td>\n",
       "      <td>0</td>\n",
       "      <td>NA</td>\n",
       "      <td>False</td>\n",
       "    </tr>\n",
       "  </tbody>\n",
       "</table>\n",
       "</div>"
      ],
      "text/plain": [
       "   Index  Lenght of stay  Age Outcome  Consent\n",
       "0      0               0    0      NA    False"
      ]
     },
     "execution_count": 4,
     "metadata": {},
     "output_type": "execute_result"
    }
   ],
   "source": [
    "# Creating an empty data frame to capture the acquired data using the pd.dataframe function from the \"pandas\" package\n",
    "\n",
    "dataframe_to_fill = pd.DataFrame({'Index': [0],# Integer\n",
    "                   'Lenght of stay': [0], # integer\n",
    "                   'Age': [0], # Integer\n",
    "                   'Outcome': ['NA'], # String\n",
    "                   'Consent': [False]}) # Boolean \n",
    "\n",
    "# Observing the outcome of empty data frame creation\n",
    "\n",
    "dataframe_to_fill"
   ]
  },
  {
   "cell_type": "code",
   "execution_count": 7,
   "id": "infrared-prophet",
   "metadata": {},
   "outputs": [],
   "source": [
    "# Saving the empty dataframe\n",
    "\n",
    "dataframe_to_fill.to_csv('../Data/CollectedDataLOS.csv', index=False)"
   ]
  },
  {
   "cell_type": "code",
   "execution_count": 8,
   "id": "naughty-package",
   "metadata": {},
   "outputs": [
    {
     "data": {
      "text/html": [
       "<div>\n",
       "<style scoped>\n",
       "    .dataframe tbody tr th:only-of-type {\n",
       "        vertical-align: middle;\n",
       "    }\n",
       "\n",
       "    .dataframe tbody tr th {\n",
       "        vertical-align: top;\n",
       "    }\n",
       "\n",
       "    .dataframe thead th {\n",
       "        text-align: right;\n",
       "    }\n",
       "</style>\n",
       "<table border=\"1\" class=\"dataframe\">\n",
       "  <thead>\n",
       "    <tr style=\"text-align: right;\">\n",
       "      <th></th>\n",
       "      <th>Index</th>\n",
       "      <th>Lenght of stay</th>\n",
       "      <th>Age</th>\n",
       "      <th>Outcome</th>\n",
       "      <th>Consent</th>\n",
       "    </tr>\n",
       "  </thead>\n",
       "  <tbody>\n",
       "    <tr>\n",
       "      <th>0</th>\n",
       "      <td>0</td>\n",
       "      <td>0</td>\n",
       "      <td>0</td>\n",
       "      <td>NaN</td>\n",
       "      <td>False</td>\n",
       "    </tr>\n",
       "  </tbody>\n",
       "</table>\n",
       "</div>"
      ],
      "text/plain": [
       "   Index  Lenght of stay  Age  Outcome  Consent\n",
       "0      0               0    0      NaN    False"
      ]
     },
     "execution_count": 8,
     "metadata": {},
     "output_type": "execute_result"
    }
   ],
   "source": [
    "# Reading the empty dataframe to allow collection of data \n",
    "\n",
    "datacollection=pd.read_csv(\"../Data/CollectedDataLOS.csv\")\n",
    "\n",
    "datacollection"
   ]
  },
  {
   "cell_type": "code",
   "execution_count": 9,
   "id": "adjacent-sierra",
   "metadata": {},
   "outputs": [
    {
     "data": {
      "text/html": [
       "<div>\n",
       "<style scoped>\n",
       "    .dataframe tbody tr th:only-of-type {\n",
       "        vertical-align: middle;\n",
       "    }\n",
       "\n",
       "    .dataframe tbody tr th {\n",
       "        vertical-align: top;\n",
       "    }\n",
       "\n",
       "    .dataframe thead th {\n",
       "        text-align: right;\n",
       "    }\n",
       "</style>\n",
       "<table border=\"1\" class=\"dataframe\">\n",
       "  <thead>\n",
       "    <tr style=\"text-align: right;\">\n",
       "      <th></th>\n",
       "      <th>index</th>\n",
       "      <th>LOS</th>\n",
       "      <th>Age</th>\n",
       "      <th>Outcome</th>\n",
       "    </tr>\n",
       "  </thead>\n",
       "  <tbody>\n",
       "    <tr>\n",
       "      <th>0</th>\n",
       "      <td>56</td>\n",
       "      <td>1</td>\n",
       "      <td>11</td>\n",
       "      <td>Discharge</td>\n",
       "    </tr>\n",
       "    <tr>\n",
       "      <th>1</th>\n",
       "      <td>72</td>\n",
       "      <td>6</td>\n",
       "      <td>79</td>\n",
       "      <td>Discharge</td>\n",
       "    </tr>\n",
       "    <tr>\n",
       "      <th>2</th>\n",
       "      <td>76</td>\n",
       "      <td>7</td>\n",
       "      <td>66</td>\n",
       "      <td>Discharge</td>\n",
       "    </tr>\n",
       "    <tr>\n",
       "      <th>3</th>\n",
       "      <td>85</td>\n",
       "      <td>12</td>\n",
       "      <td>90</td>\n",
       "      <td>Discharge</td>\n",
       "    </tr>\n",
       "    <tr>\n",
       "      <th>4</th>\n",
       "      <td>147</td>\n",
       "      <td>3</td>\n",
       "      <td>38</td>\n",
       "      <td>Discharge</td>\n",
       "    </tr>\n",
       "    <tr>\n",
       "      <th>5</th>\n",
       "      <td>162</td>\n",
       "      <td>2</td>\n",
       "      <td>17</td>\n",
       "      <td>Discharge</td>\n",
       "    </tr>\n",
       "    <tr>\n",
       "      <th>6</th>\n",
       "      <td>202</td>\n",
       "      <td>6</td>\n",
       "      <td>69</td>\n",
       "      <td>Discharge</td>\n",
       "    </tr>\n",
       "  </tbody>\n",
       "</table>\n",
       "</div>"
      ],
      "text/plain": [
       "   index  LOS  Age    Outcome\n",
       "0     56    1   11  Discharge\n",
       "1     72    6   79  Discharge\n",
       "2     76    7   66  Discharge\n",
       "3     85   12   90  Discharge\n",
       "4    147    3   38  Discharge\n",
       "5    162    2   17  Discharge\n",
       "6    202    6   69  Discharge"
      ]
     },
     "execution_count": 9,
     "metadata": {},
     "output_type": "execute_result"
    }
   ],
   "source": [
    "# Observing data with head function\n",
    "\n",
    "los_testdata.head(n=7)"
   ]
  },
  {
   "cell_type": "code",
   "execution_count": 104,
   "id": "controlling-roberts",
   "metadata": {},
   "outputs": [
    {
     "name": "stdout",
     "output_type": "stream",
     "text": [
      "Please enter the index number: 298\n"
     ]
    },
    {
     "data": {
      "text/html": [
       "<div>\n",
       "<style scoped>\n",
       "    .dataframe tbody tr th:only-of-type {\n",
       "        vertical-align: middle;\n",
       "    }\n",
       "\n",
       "    .dataframe tbody tr th {\n",
       "        vertical-align: top;\n",
       "    }\n",
       "\n",
       "    .dataframe thead th {\n",
       "        text-align: right;\n",
       "    }\n",
       "</style>\n",
       "<table border=\"1\" class=\"dataframe\">\n",
       "  <thead>\n",
       "    <tr style=\"text-align: right;\">\n",
       "      <th></th>\n",
       "      <th>Index</th>\n",
       "      <th>Lenght of stay</th>\n",
       "      <th>Age</th>\n",
       "      <th>Outcome</th>\n",
       "      <th>Consent</th>\n",
       "    </tr>\n",
       "  </thead>\n",
       "  <tbody>\n",
       "    <tr>\n",
       "      <th>0</th>\n",
       "      <td>298</td>\n",
       "      <td>6</td>\n",
       "      <td>44</td>\n",
       "      <td>Discharge</td>\n",
       "      <td>True</td>\n",
       "    </tr>\n",
       "  </tbody>\n",
       "</table>\n",
       "</div>"
      ],
      "text/plain": [
       "   Index  Lenght of stay  Age    Outcome  Consent\n",
       "0    298               6   44  Discharge     True"
      ]
     },
     "execution_count": 104,
     "metadata": {},
     "output_type": "execute_result"
    }
   ],
   "source": [
    "# Establishing the main index number for the observation\n",
    "\n",
    "index_number=int(input(\"Please enter the index number: \")) \n",
    "dataframe_to_fill.iloc[0,0]=index_number\n",
    "dataframe_to_fill"
   ]
  },
  {
   "cell_type": "markdown",
   "id": "infinite-stylus",
   "metadata": {},
   "source": [
    "# Collection tools"
   ]
  },
  {
   "cell_type": "code",
   "execution_count": 3,
   "id": "unique-paradise",
   "metadata": {},
   "outputs": [],
   "source": [
    "#Load the 'ipywidgets' package providing user-friendly interface to collect data\n",
    "#Load the 'IPython.display' package to allow visualization of different objects \n",
    "\n",
    "import ipywidgets as widgets\n",
    "\n",
    "from IPython.display import display"
   ]
  },
  {
   "cell_type": "markdown",
   "id": "collect-enhancement",
   "metadata": {},
   "source": [
    " - Consent Variable"
   ]
  },
  {
   "cell_type": "code",
   "execution_count": 4,
   "id": "dying-semiconductor",
   "metadata": {},
   "outputs": [
    {
     "data": {
      "application/vnd.jupyter.widget-view+json": {
       "model_id": "4d698d4d5fd6408dbcc3251152e2d916",
       "version_major": 2,
       "version_minor": 0
      },
      "text/plain": [
       "Checkbox(value=False, description='I consent for the data I have provided to be processed and shared in accord…"
      ]
     },
     "metadata": {},
     "output_type": "display_data"
    }
   ],
   "source": [
    "# Consent variable is a boolean and data should only be processed if consent is given.\n",
    "# A checkbox widget is selected for this logical variable to record if consent is achieved.\n",
    "\n",
    "consent = widgets.Checkbox(\n",
    "    value=False,\n",
    "    description='I consent for the data I have provided to be processed and shared in accordance with data protection regulations with the purpose of improving care service provision across the UK.',\n",
    "    disabled=False\n",
    ")\n",
    "display(consent)"
   ]
  },
  {
   "cell_type": "code",
   "execution_count": 105,
   "id": "julian-script",
   "metadata": {},
   "outputs": [
    {
     "data": {
      "text/html": [
       "<div>\n",
       "<style scoped>\n",
       "    .dataframe tbody tr th:only-of-type {\n",
       "        vertical-align: middle;\n",
       "    }\n",
       "\n",
       "    .dataframe tbody tr th {\n",
       "        vertical-align: top;\n",
       "    }\n",
       "\n",
       "    .dataframe thead th {\n",
       "        text-align: right;\n",
       "    }\n",
       "</style>\n",
       "<table border=\"1\" class=\"dataframe\">\n",
       "  <thead>\n",
       "    <tr style=\"text-align: right;\">\n",
       "      <th></th>\n",
       "      <th>Index</th>\n",
       "      <th>Lenght of stay</th>\n",
       "      <th>Age</th>\n",
       "      <th>Outcome</th>\n",
       "      <th>Consent</th>\n",
       "    </tr>\n",
       "  </thead>\n",
       "  <tbody>\n",
       "    <tr>\n",
       "      <th>0</th>\n",
       "      <td>298</td>\n",
       "      <td>6</td>\n",
       "      <td>44</td>\n",
       "      <td>Discharge</td>\n",
       "      <td>True</td>\n",
       "    </tr>\n",
       "  </tbody>\n",
       "</table>\n",
       "</div>"
      ],
      "text/plain": [
       "   Index  Lenght of stay  Age    Outcome  Consent\n",
       "0    298               6   44  Discharge     True"
      ]
     },
     "execution_count": 105,
     "metadata": {},
     "output_type": "execute_result"
    }
   ],
   "source": [
    "# Observation of data frame output with consent value\n",
    "\n",
    "dataframe_to_fill.iloc[0,4]=consent.value\n",
    "dataframe_to_fill"
   ]
  },
  {
   "cell_type": "markdown",
   "id": "compressed-master",
   "metadata": {},
   "source": [
    "- Length of stay variable"
   ]
  },
  {
   "cell_type": "code",
   "execution_count": 5,
   "id": "alien-product",
   "metadata": {},
   "outputs": [
    {
     "data": {
      "application/vnd.jupyter.widget-view+json": {
       "model_id": "747f1d4278274e29b210fdcbb4e53529",
       "version_major": 2,
       "version_minor": 0
      },
      "text/plain": [
       "IntText(value=0, description='Length of stay:')"
      ]
     },
     "metadata": {},
     "output_type": "display_data"
    }
   ],
   "source": [
    "# LOS variable is a numerical integer variable and the IntText widget is adopted to retain the integer of the inputed value.\n",
    "\n",
    "LOS=widgets.IntText(\n",
    "    value=0,\n",
    "    description='Length of stay:',\n",
    "    disabled=False)\n",
    "display(LOS)"
   ]
  },
  {
   "cell_type": "code",
   "execution_count": 106,
   "id": "framed-harrison",
   "metadata": {},
   "outputs": [
    {
     "data": {
      "text/html": [
       "<div>\n",
       "<style scoped>\n",
       "    .dataframe tbody tr th:only-of-type {\n",
       "        vertical-align: middle;\n",
       "    }\n",
       "\n",
       "    .dataframe tbody tr th {\n",
       "        vertical-align: top;\n",
       "    }\n",
       "\n",
       "    .dataframe thead th {\n",
       "        text-align: right;\n",
       "    }\n",
       "</style>\n",
       "<table border=\"1\" class=\"dataframe\">\n",
       "  <thead>\n",
       "    <tr style=\"text-align: right;\">\n",
       "      <th></th>\n",
       "      <th>Index</th>\n",
       "      <th>Lenght of stay</th>\n",
       "      <th>Age</th>\n",
       "      <th>Outcome</th>\n",
       "      <th>Consent</th>\n",
       "    </tr>\n",
       "  </thead>\n",
       "  <tbody>\n",
       "    <tr>\n",
       "      <th>0</th>\n",
       "      <td>298</td>\n",
       "      <td>3</td>\n",
       "      <td>44</td>\n",
       "      <td>Discharge</td>\n",
       "      <td>True</td>\n",
       "    </tr>\n",
       "  </tbody>\n",
       "</table>\n",
       "</div>"
      ],
      "text/plain": [
       "   Index  Lenght of stay  Age    Outcome  Consent\n",
       "0    298               3   44  Discharge     True"
      ]
     },
     "execution_count": 106,
     "metadata": {},
     "output_type": "execute_result"
    }
   ],
   "source": [
    "# Observation of data frame output with LOS value\n",
    "\n",
    "dataframe_to_fill.iloc[0,1]=LOS.value\n",
    "dataframe_to_fill"
   ]
  },
  {
   "cell_type": "markdown",
   "id": "residential-pursuit",
   "metadata": {},
   "source": [
    "- Age variable"
   ]
  },
  {
   "cell_type": "code",
   "execution_count": 6,
   "id": "economic-exhibit",
   "metadata": {},
   "outputs": [
    {
     "data": {
      "application/vnd.jupyter.widget-view+json": {
       "model_id": "6b47d67bfcbd4d8f8dc9aa1862faa848",
       "version_major": 2,
       "version_minor": 0
      },
      "text/plain": [
       "IntText(value=0, description='Age:')"
      ]
     },
     "metadata": {},
     "output_type": "display_data"
    }
   ],
   "source": [
    "# Age is a numerical integer variable and the IntText widget is used to capture the integer of the inserted value.\n",
    "\n",
    "Age=widgets.IntText(\n",
    "    value=0,\n",
    "    description='Age:',\n",
    "    disabled=False)\n",
    "display(Age)"
   ]
  },
  {
   "cell_type": "code",
   "execution_count": 107,
   "id": "controlling-fighter",
   "metadata": {},
   "outputs": [
    {
     "data": {
      "text/html": [
       "<div>\n",
       "<style scoped>\n",
       "    .dataframe tbody tr th:only-of-type {\n",
       "        vertical-align: middle;\n",
       "    }\n",
       "\n",
       "    .dataframe tbody tr th {\n",
       "        vertical-align: top;\n",
       "    }\n",
       "\n",
       "    .dataframe thead th {\n",
       "        text-align: right;\n",
       "    }\n",
       "</style>\n",
       "<table border=\"1\" class=\"dataframe\">\n",
       "  <thead>\n",
       "    <tr style=\"text-align: right;\">\n",
       "      <th></th>\n",
       "      <th>Index</th>\n",
       "      <th>Lenght of stay</th>\n",
       "      <th>Age</th>\n",
       "      <th>Outcome</th>\n",
       "      <th>Consent</th>\n",
       "    </tr>\n",
       "  </thead>\n",
       "  <tbody>\n",
       "    <tr>\n",
       "      <th>0</th>\n",
       "      <td>298</td>\n",
       "      <td>3</td>\n",
       "      <td>21</td>\n",
       "      <td>Discharge</td>\n",
       "      <td>True</td>\n",
       "    </tr>\n",
       "  </tbody>\n",
       "</table>\n",
       "</div>"
      ],
      "text/plain": [
       "   Index  Lenght of stay  Age    Outcome  Consent\n",
       "0    298               3   21  Discharge     True"
      ]
     },
     "execution_count": 107,
     "metadata": {},
     "output_type": "execute_result"
    }
   ],
   "source": [
    "# Observation of data frame output with Age value\n",
    "\n",
    "dataframe_to_fill.iloc[0,2]=Age.value\n",
    "dataframe_to_fill"
   ]
  },
  {
   "cell_type": "markdown",
   "id": "chubby-durham",
   "metadata": {},
   "source": [
    "- Outcome variable"
   ]
  },
  {
   "cell_type": "code",
   "execution_count": 8,
   "id": "painful-relations",
   "metadata": {},
   "outputs": [
    {
     "data": {
      "text/plain": [
       "['Discharge', 'Death']"
      ]
     },
     "execution_count": 8,
     "metadata": {},
     "output_type": "execute_result"
    }
   ],
   "source": [
    "# Outcome is a character categorical variable with two possible outcomes\n",
    "\n",
    "# Unique function from the \"pandas\" package will allow to create a list of the both outcomes\n",
    "\n",
    "possible_outcomes=list(los_testdata[\"Outcome\"].unique())\n",
    "possible_outcomes"
   ]
  },
  {
   "cell_type": "code",
   "execution_count": 9,
   "id": "verbal-economics",
   "metadata": {},
   "outputs": [
    {
     "data": {
      "application/vnd.jupyter.widget-view+json": {
       "model_id": "ca0489b53cfe448f9417c213f9be2888",
       "version_major": 2,
       "version_minor": 0
      },
      "text/plain": [
       "RadioButtons(description='Outcome:', options=('Discharge', 'Death'), value='Discharge')"
      ]
     },
     "metadata": {},
     "output_type": "display_data"
    }
   ],
   "source": [
    "# The RadioButtons widget is selected to input the value of the categorical variable Outcome.\n",
    "Outcome=widgets.RadioButtons(\n",
    "    options=possible_outcomes,\n",
    "    description='Outcome:',\n",
    "    disabled=False\n",
    ")\n",
    "display(Outcome)"
   ]
  },
  {
   "cell_type": "code",
   "execution_count": 108,
   "id": "related-member",
   "metadata": {},
   "outputs": [
    {
     "data": {
      "text/html": [
       "<div>\n",
       "<style scoped>\n",
       "    .dataframe tbody tr th:only-of-type {\n",
       "        vertical-align: middle;\n",
       "    }\n",
       "\n",
       "    .dataframe tbody tr th {\n",
       "        vertical-align: top;\n",
       "    }\n",
       "\n",
       "    .dataframe thead th {\n",
       "        text-align: right;\n",
       "    }\n",
       "</style>\n",
       "<table border=\"1\" class=\"dataframe\">\n",
       "  <thead>\n",
       "    <tr style=\"text-align: right;\">\n",
       "      <th></th>\n",
       "      <th>Index</th>\n",
       "      <th>Lenght of stay</th>\n",
       "      <th>Age</th>\n",
       "      <th>Outcome</th>\n",
       "      <th>Consent</th>\n",
       "    </tr>\n",
       "  </thead>\n",
       "  <tbody>\n",
       "    <tr>\n",
       "      <th>0</th>\n",
       "      <td>298</td>\n",
       "      <td>3</td>\n",
       "      <td>21</td>\n",
       "      <td>Discharge</td>\n",
       "      <td>True</td>\n",
       "    </tr>\n",
       "  </tbody>\n",
       "</table>\n",
       "</div>"
      ],
      "text/plain": [
       "   Index  Lenght of stay  Age    Outcome  Consent\n",
       "0    298               3   21  Discharge     True"
      ]
     },
     "execution_count": 108,
     "metadata": {},
     "output_type": "execute_result"
    }
   ],
   "source": [
    "dataframe_to_fill.iloc[0,3]=Outcome.value\n",
    "dataframe_to_fill"
   ]
  },
  {
   "cell_type": "markdown",
   "id": "central-revision",
   "metadata": {},
   "source": [
    "# Finalizing data frame"
   ]
  },
  {
   "cell_type": "code",
   "execution_count": 109,
   "id": "abstract-retrieval",
   "metadata": {},
   "outputs": [
    {
     "data": {
      "text/html": [
       "<div>\n",
       "<style scoped>\n",
       "    .dataframe tbody tr th:only-of-type {\n",
       "        vertical-align: middle;\n",
       "    }\n",
       "\n",
       "    .dataframe tbody tr th {\n",
       "        vertical-align: top;\n",
       "    }\n",
       "\n",
       "    .dataframe thead th {\n",
       "        text-align: right;\n",
       "    }\n",
       "</style>\n",
       "<table border=\"1\" class=\"dataframe\">\n",
       "  <thead>\n",
       "    <tr style=\"text-align: right;\">\n",
       "      <th></th>\n",
       "      <th>Index</th>\n",
       "      <th>Lenght of stay</th>\n",
       "      <th>Age</th>\n",
       "      <th>Outcome</th>\n",
       "      <th>Consent</th>\n",
       "    </tr>\n",
       "  </thead>\n",
       "  <tbody>\n",
       "    <tr>\n",
       "      <th>0</th>\n",
       "      <td>56</td>\n",
       "      <td>1</td>\n",
       "      <td>11</td>\n",
       "      <td>Discharge</td>\n",
       "      <td>True</td>\n",
       "    </tr>\n",
       "    <tr>\n",
       "      <th>0</th>\n",
       "      <td>72</td>\n",
       "      <td>6</td>\n",
       "      <td>79</td>\n",
       "      <td>Discharge</td>\n",
       "      <td>True</td>\n",
       "    </tr>\n",
       "    <tr>\n",
       "      <th>0</th>\n",
       "      <td>76</td>\n",
       "      <td>7</td>\n",
       "      <td>66</td>\n",
       "      <td>Discharge</td>\n",
       "      <td>True</td>\n",
       "    </tr>\n",
       "    <tr>\n",
       "      <th>0</th>\n",
       "      <td>85</td>\n",
       "      <td>12</td>\n",
       "      <td>90</td>\n",
       "      <td>Discharge</td>\n",
       "      <td>True</td>\n",
       "    </tr>\n",
       "    <tr>\n",
       "      <th>0</th>\n",
       "      <td>147</td>\n",
       "      <td>3</td>\n",
       "      <td>38</td>\n",
       "      <td>Discharge</td>\n",
       "      <td>True</td>\n",
       "    </tr>\n",
       "    <tr>\n",
       "      <th>0</th>\n",
       "      <td>162</td>\n",
       "      <td>2</td>\n",
       "      <td>17</td>\n",
       "      <td>Discharge</td>\n",
       "      <td>True</td>\n",
       "    </tr>\n",
       "    <tr>\n",
       "      <th>0</th>\n",
       "      <td>202</td>\n",
       "      <td>6</td>\n",
       "      <td>69</td>\n",
       "      <td>Discharge</td>\n",
       "      <td>True</td>\n",
       "    </tr>\n",
       "    <tr>\n",
       "      <th>0</th>\n",
       "      <td>204</td>\n",
       "      <td>2</td>\n",
       "      <td>27</td>\n",
       "      <td>Discharge</td>\n",
       "      <td>True</td>\n",
       "    </tr>\n",
       "    <tr>\n",
       "      <th>0</th>\n",
       "      <td>252</td>\n",
       "      <td>4</td>\n",
       "      <td>90</td>\n",
       "      <td>Death</td>\n",
       "      <td>True</td>\n",
       "    </tr>\n",
       "    <tr>\n",
       "      <th>0</th>\n",
       "      <td>275</td>\n",
       "      <td>6</td>\n",
       "      <td>44</td>\n",
       "      <td>Discharge</td>\n",
       "      <td>True</td>\n",
       "    </tr>\n",
       "    <tr>\n",
       "      <th>0</th>\n",
       "      <td>298</td>\n",
       "      <td>3</td>\n",
       "      <td>21</td>\n",
       "      <td>Discharge</td>\n",
       "      <td>True</td>\n",
       "    </tr>\n",
       "  </tbody>\n",
       "</table>\n",
       "</div>"
      ],
      "text/plain": [
       "   Index  Lenght of stay  Age    Outcome  Consent\n",
       "0     56               1   11  Discharge     True\n",
       "0     72               6   79  Discharge     True\n",
       "0     76               7   66  Discharge     True\n",
       "0     85              12   90  Discharge     True\n",
       "0    147               3   38  Discharge     True\n",
       "0    162               2   17  Discharge     True\n",
       "0    202               6   69  Discharge     True\n",
       "0    204               2   27  Discharge     True\n",
       "0    252               4   90      Death     True\n",
       "0    275               6   44  Discharge     True\n",
       "0    298               3   21  Discharge     True"
      ]
     },
     "metadata": {},
     "output_type": "display_data"
    }
   ],
   "source": [
    "# Concatenating the data frame to fill to datacollection final dataframe using pd.concat function from \"pandas\" package\n",
    "datacollection  = pd.concat([datacollection, dataframe_to_fill])\n",
    "display(datacollection)"
   ]
  },
  {
   "cell_type": "markdown",
   "id": "sealed-divorce",
   "metadata": {},
   "source": [
    "- Consent needs to be given prior to data analysis"
   ]
  },
  {
   "cell_type": "code",
   "execution_count": 110,
   "id": "focused-design",
   "metadata": {},
   "outputs": [
    {
     "data": {
      "text/html": [
       "<div>\n",
       "<style scoped>\n",
       "    .dataframe tbody tr th:only-of-type {\n",
       "        vertical-align: middle;\n",
       "    }\n",
       "\n",
       "    .dataframe tbody tr th {\n",
       "        vertical-align: top;\n",
       "    }\n",
       "\n",
       "    .dataframe thead th {\n",
       "        text-align: right;\n",
       "    }\n",
       "</style>\n",
       "<table border=\"1\" class=\"dataframe\">\n",
       "  <thead>\n",
       "    <tr style=\"text-align: right;\">\n",
       "      <th></th>\n",
       "      <th>Index</th>\n",
       "      <th>Lenght of stay</th>\n",
       "      <th>Age</th>\n",
       "      <th>Outcome</th>\n",
       "      <th>Consent</th>\n",
       "    </tr>\n",
       "  </thead>\n",
       "  <tbody>\n",
       "    <tr>\n",
       "      <th>0</th>\n",
       "      <td>56</td>\n",
       "      <td>1</td>\n",
       "      <td>11</td>\n",
       "      <td>Discharge</td>\n",
       "      <td>True</td>\n",
       "    </tr>\n",
       "    <tr>\n",
       "      <th>0</th>\n",
       "      <td>72</td>\n",
       "      <td>6</td>\n",
       "      <td>79</td>\n",
       "      <td>Discharge</td>\n",
       "      <td>True</td>\n",
       "    </tr>\n",
       "    <tr>\n",
       "      <th>0</th>\n",
       "      <td>76</td>\n",
       "      <td>7</td>\n",
       "      <td>66</td>\n",
       "      <td>Discharge</td>\n",
       "      <td>True</td>\n",
       "    </tr>\n",
       "    <tr>\n",
       "      <th>0</th>\n",
       "      <td>85</td>\n",
       "      <td>12</td>\n",
       "      <td>90</td>\n",
       "      <td>Discharge</td>\n",
       "      <td>True</td>\n",
       "    </tr>\n",
       "    <tr>\n",
       "      <th>0</th>\n",
       "      <td>147</td>\n",
       "      <td>3</td>\n",
       "      <td>38</td>\n",
       "      <td>Discharge</td>\n",
       "      <td>True</td>\n",
       "    </tr>\n",
       "    <tr>\n",
       "      <th>0</th>\n",
       "      <td>162</td>\n",
       "      <td>2</td>\n",
       "      <td>17</td>\n",
       "      <td>Discharge</td>\n",
       "      <td>True</td>\n",
       "    </tr>\n",
       "    <tr>\n",
       "      <th>0</th>\n",
       "      <td>202</td>\n",
       "      <td>6</td>\n",
       "      <td>69</td>\n",
       "      <td>Discharge</td>\n",
       "      <td>True</td>\n",
       "    </tr>\n",
       "    <tr>\n",
       "      <th>0</th>\n",
       "      <td>204</td>\n",
       "      <td>2</td>\n",
       "      <td>27</td>\n",
       "      <td>Discharge</td>\n",
       "      <td>True</td>\n",
       "    </tr>\n",
       "    <tr>\n",
       "      <th>0</th>\n",
       "      <td>252</td>\n",
       "      <td>4</td>\n",
       "      <td>90</td>\n",
       "      <td>Death</td>\n",
       "      <td>True</td>\n",
       "    </tr>\n",
       "    <tr>\n",
       "      <th>0</th>\n",
       "      <td>275</td>\n",
       "      <td>6</td>\n",
       "      <td>44</td>\n",
       "      <td>Discharge</td>\n",
       "      <td>True</td>\n",
       "    </tr>\n",
       "    <tr>\n",
       "      <th>0</th>\n",
       "      <td>298</td>\n",
       "      <td>3</td>\n",
       "      <td>21</td>\n",
       "      <td>Discharge</td>\n",
       "      <td>True</td>\n",
       "    </tr>\n",
       "  </tbody>\n",
       "</table>\n",
       "</div>"
      ],
      "text/plain": [
       "   Index  Lenght of stay  Age    Outcome  Consent\n",
       "0     56               1   11  Discharge     True\n",
       "0     72               6   79  Discharge     True\n",
       "0     76               7   66  Discharge     True\n",
       "0     85              12   90  Discharge     True\n",
       "0    147               3   38  Discharge     True\n",
       "0    162               2   17  Discharge     True\n",
       "0    202               6   69  Discharge     True\n",
       "0    204               2   27  Discharge     True\n",
       "0    252               4   90      Death     True\n",
       "0    275               6   44  Discharge     True\n",
       "0    298               3   21  Discharge     True"
      ]
     },
     "metadata": {},
     "output_type": "display_data"
    }
   ],
   "source": [
    "# Retaining the observations where the consent was given\n",
    "\n",
    "datacollection=datacollection[datacollection['Consent'] == True]\n",
    "display(datacollection)"
   ]
  },
  {
   "cell_type": "markdown",
   "id": "southern-depression",
   "metadata": {},
   "source": [
    "# Saving Data frame"
   ]
  },
  {
   "cell_type": "code",
   "execution_count": 111,
   "id": "continuous-vessel",
   "metadata": {},
   "outputs": [],
   "source": [
    "# Saving dataframe in CSV format using the .to_csv function from \"pandas\" package\n",
    "\n",
    "datacollection.to_csv('../Data/CollectedDataLOS.csv', index=False)"
   ]
  },
  {
   "cell_type": "code",
   "execution_count": 112,
   "id": "controlling-auckland",
   "metadata": {},
   "outputs": [],
   "source": [
    "datacollection.to_csv('../RawData/CollectedDataLOSFinal.csv', index=False)"
   ]
  },
  {
   "cell_type": "markdown",
   "id": "presidential-discount",
   "metadata": {},
   "source": [
    "# User interface for data collection tool"
   ]
  },
  {
   "cell_type": "code",
   "execution_count": 10,
   "id": "prescription-rebel",
   "metadata": {},
   "outputs": [],
   "source": [
    "form=widgets.VBox([consent,LOS,Age,Outcome])"
   ]
  },
  {
   "cell_type": "markdown",
   "id": "interesting-faith",
   "metadata": {},
   "source": [
    "# Hospital admissions impact on fatality and lenght of hospital stay"
   ]
  },
  {
   "cell_type": "markdown",
   "id": "pregnant-marketing",
   "metadata": {},
   "source": [
    "Hospital admissions data can provide the foundations for data driven findings that can improve and optimize service provision. To ensure that healthcare sector is well prepared for the challenges that an aging population poses is relevant to understand how long an older patient stays in hospital and explore in hospital fatality per age group.\n",
    "\n",
    "To maintain the healthcare delivery to high standard we need your length of hospital stay, age and outcome of hospitalization this information will contribute to a better understanding of the actual and future needs of the healthcare service. We would be grateful if you could share your data with us using the form bellow:\n",
    "\n",
    "\n"
   ]
  },
  {
   "cell_type": "code",
   "execution_count": 11,
   "id": "olympic-graduation",
   "metadata": {},
   "outputs": [
    {
     "data": {
      "application/vnd.jupyter.widget-view+json": {
       "model_id": "9b06019d391b4dc2a589cecdef45f24a",
       "version_major": 2,
       "version_minor": 0
      },
      "text/plain": [
       "VBox(children=(Checkbox(value=False, description='I consent for the data I have provided to be processed and s…"
      ]
     },
     "metadata": {},
     "output_type": "display_data"
    }
   ],
   "source": [
    "display(form)"
   ]
  },
  {
   "cell_type": "markdown",
   "id": "documented-series",
   "metadata": {},
   "source": [
    "Many thanks for sharing your data and consenting for it to be processed and shared. "
   ]
  }
 ],
 "metadata": {
  "kernelspec": {
   "display_name": "Python 3 (ipykernel)",
   "language": "python",
   "name": "python3"
  },
  "language_info": {
   "codemirror_mode": {
    "name": "ipython",
    "version": 3
   },
   "file_extension": ".py",
   "mimetype": "text/x-python",
   "name": "python",
   "nbconvert_exporter": "python",
   "pygments_lexer": "ipython3",
   "version": "3.9.2"
  }
 },
 "nbformat": 4,
 "nbformat_minor": 5
}
